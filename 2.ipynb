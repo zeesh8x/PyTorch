{
 "cells": [
  {
   "cell_type": "code",
   "execution_count": 1,
   "id": "737312be",
   "metadata": {},
   "outputs": [],
   "source": [
    "import torch\n",
    "import torch.nn as nn\n",
    "import torch.optim as optim\n",
    "from sklearn.datasets import make_classification\n",
    "from sklearn.model_selection import train_test_split\n",
    "from torch.utils.data import DataLoader, TensorDataset\n",
    "from torchinfo import summary\n"
   ]
  },
  {
   "cell_type": "code",
   "execution_count": 2,
   "id": "2ff7866b",
   "metadata": {},
   "outputs": [],
   "source": [
    "class Classifier(nn.Module):\n",
    "    def __init__(self, input_size):\n",
    "        super().__init__()\n",
    "        self.seq = nn.Sequential(\n",
    "            nn.Linear(input_size, 64),\n",
    "            nn.ReLU(),\n",
    "            nn.Dropout(0.2),\n",
    "            nn.Linear(64, 32),\n",
    "            nn.ReLU(),\n",
    "            nn.Linear(32, 16),\n",
    "            nn.Tanh(),\n",
    "            nn.Linear(16, 1),\n",
    "            nn.Sigmoid()\n",
    "        )\n",
    "    \n",
    "    def forward(self, x):\n",
    "        return self.seq(x)\n"
   ]
  },
  {
   "cell_type": "code",
   "execution_count": 3,
   "id": "005f712c",
   "metadata": {},
   "outputs": [],
   "source": [
    "RANDOM_SEED = 42\n",
    "NUM_FEATURES = 20\n",
    "NUM_SAMPLES = 1000\n",
    "BATCH_SIZE = 32\n",
    "EPOCHS = 15\n",
    "\n",
    "X, y = make_classification(\n",
    "    n_samples=NUM_SAMPLES,\n",
    "    n_features=NUM_FEATURES,\n",
    "    n_informative=15,\n",
    "    n_redundant=2,\n",
    "    random_state=RANDOM_SEED\n",
    ")\n",
    "X = torch.tensor(X, dtype=torch.float32)\n",
    "y = torch.tensor(y, dtype=torch.float32).unsqueeze(1)\n"
   ]
  },
  {
   "cell_type": "code",
   "execution_count": 4,
   "id": "5a9a8e64",
   "metadata": {},
   "outputs": [],
   "source": [
    "X_train, X_test, y_train, y_test = train_test_split(\n",
    "    X, y, test_size=0.2, random_state=RANDOM_SEED\n",
    ")\n",
    "\n"
   ]
  },
  {
   "cell_type": "code",
   "execution_count": 5,
   "id": "25936d72",
   "metadata": {},
   "outputs": [],
   "source": [
    "train_dataset = TensorDataset(X_train, y_train)\n",
    "test_dataset = TensorDataset(X_test, y_test)\n",
    "train_loader = DataLoader(train_dataset, batch_size=BATCH_SIZE, shuffle=True)\n",
    "test_loader = DataLoader(test_dataset, batch_size=BATCH_SIZE)\n"
   ]
  },
  {
   "cell_type": "code",
   "execution_count": 6,
   "id": "c47ab470",
   "metadata": {},
   "outputs": [],
   "source": [
    "device = torch.device('cuda' if torch.cuda.is_available() else 'cpu')\n",
    "model = Classifier(NUM_FEATURES).to(device)\n",
    "criterion = nn.BCELoss()\n",
    "optimizer = optim.Adam(model.parameters(), lr=0.001, weight_decay=1e-4)\n",
    "scheduler = optim.lr_scheduler.ReduceLROnPlateau(optimizer, 'min', patience=2)\n"
   ]
  },
  {
   "cell_type": "code",
   "execution_count": 7,
   "id": "92df02ca",
   "metadata": {},
   "outputs": [
    {
     "data": {
      "text/plain": [
       "==========================================================================================\n",
       "Layer (type:depth-idx)                   Output Shape              Param #\n",
       "==========================================================================================\n",
       "Classifier                               [32, 1]                   --\n",
       "├─Sequential: 1-1                        [32, 1]                   --\n",
       "│    └─Linear: 2-1                       [32, 64]                  1,344\n",
       "│    └─ReLU: 2-2                         [32, 64]                  --\n",
       "│    └─Dropout: 2-3                      [32, 64]                  --\n",
       "│    └─Linear: 2-4                       [32, 32]                  2,080\n",
       "│    └─ReLU: 2-5                         [32, 32]                  --\n",
       "│    └─Linear: 2-6                       [32, 16]                  528\n",
       "│    └─Tanh: 2-7                         [32, 16]                  --\n",
       "│    └─Linear: 2-8                       [32, 1]                   17\n",
       "│    └─Sigmoid: 2-9                      [32, 1]                   --\n",
       "==========================================================================================\n",
       "Total params: 3,969\n",
       "Trainable params: 3,969\n",
       "Non-trainable params: 0\n",
       "Total mult-adds (Units.MEGABYTES): 0.13\n",
       "==========================================================================================\n",
       "Input size (MB): 0.00\n",
       "Forward/backward pass size (MB): 0.03\n",
       "Params size (MB): 0.02\n",
       "Estimated Total Size (MB): 0.05\n",
       "=========================================================================================="
      ]
     },
     "execution_count": 7,
     "metadata": {},
     "output_type": "execute_result"
    }
   ],
   "source": [
    "summary(model, input_size=(BATCH_SIZE, NUM_FEATURES))\n"
   ]
  },
  {
   "cell_type": "code",
   "execution_count": 9,
   "id": "19588f7b",
   "metadata": {},
   "outputs": [
    {
     "name": "stdout",
     "output_type": "stream",
     "text": [
      "Training on cuda\n",
      "Epoch 1/15 | Train Loss: 0.0840 | Val Loss: 0.1359 | Accuracy: 94.50%\n",
      "Epoch 2/15 | Train Loss: 0.0989 | Val Loss: 0.1328 | Accuracy: 94.50%\n",
      "Epoch 3/15 | Train Loss: 0.0901 | Val Loss: 0.1224 | Accuracy: 96.00%\n",
      "Epoch 4/15 | Train Loss: 0.0903 | Val Loss: 0.1322 | Accuracy: 95.00%\n",
      "Epoch 5/15 | Train Loss: 0.0734 | Val Loss: 0.1276 | Accuracy: 95.00%\n",
      "Epoch 6/15 | Train Loss: 0.0798 | Val Loss: 0.1148 | Accuracy: 95.00%\n",
      "Epoch 7/15 | Train Loss: 0.0645 | Val Loss: 0.1167 | Accuracy: 95.00%\n",
      "Epoch 8/15 | Train Loss: 0.0856 | Val Loss: 0.1210 | Accuracy: 95.50%\n",
      "Epoch 9/15 | Train Loss: 0.0578 | Val Loss: 0.1171 | Accuracy: 95.50%\n",
      "Epoch 10/15 | Train Loss: 0.0690 | Val Loss: 0.1141 | Accuracy: 95.50%\n",
      "Epoch 11/15 | Train Loss: 0.0748 | Val Loss: 0.1104 | Accuracy: 95.50%\n",
      "Epoch 12/15 | Train Loss: 0.0542 | Val Loss: 0.1109 | Accuracy: 95.50%\n",
      "Epoch 13/15 | Train Loss: 0.0539 | Val Loss: 0.1111 | Accuracy: 95.50%\n",
      "Epoch 14/15 | Train Loss: 0.0655 | Val Loss: 0.1112 | Accuracy: 95.50%\n",
      "Epoch 15/15 | Train Loss: 0.0545 | Val Loss: 0.1113 | Accuracy: 95.50%\n"
     ]
    }
   ],
   "source": [
    "print(f\"Training on {device}\")\n",
    "for epoch in range(EPOCHS):\n",
    "    model.train()\n",
    "    train_loss = 0.0\n",
    "    \n",
    "    for inputs, targets in train_loader:\n",
    "        inputs, targets = inputs.to(device), targets.to(device)\n",
    "        \n",
    "        optimizer.zero_grad()\n",
    "        outputs = model(inputs)\n",
    "        loss = criterion(outputs, targets)\n",
    "        loss.backward()\n",
    "        optimizer.step()\n",
    "        \n",
    "        train_loss += loss.item() * inputs.size(0)\n",
    "    model.eval()\n",
    "    val_loss = 0.0\n",
    "    correct = 0\n",
    "    total = 0\n",
    "    \n",
    "    with torch.no_grad():\n",
    "        for inputs, targets in test_loader:\n",
    "            inputs, targets = inputs.to(device), targets.to(device)\n",
    "            outputs = model(inputs)\n",
    "            loss = criterion(outputs, targets)\n",
    "            val_loss += loss.item() * inputs.size(0)\n",
    "            \n",
    "            predicted = (outputs > 0.5).float()\n",
    "            correct += (predicted == targets).sum().item()\n",
    "            total += targets.size(0)\n",
    "    \n",
    "    # Update scheduler\n",
    "    scheduler.step(val_loss)\n",
    "    \n",
    "    # Metrics\n",
    "    train_loss = train_loss / len(train_loader.dataset)\n",
    "    val_loss = val_loss / len(test_loader.dataset)\n",
    "    accuracy = 100 * correct / total\n",
    "    \n",
    "    print(f\"Epoch {epoch+1}/{EPOCHS} | \"\n",
    "          f\"Train Loss: {train_loss:.4f} | \"\n",
    "          f\"Val Loss: {val_loss:.4f} | \"\n",
    "          f\"Accuracy: {accuracy:.2f}%\")\n",
    "\n"
   ]
  },
  {
   "cell_type": "code",
   "execution_count": null,
   "id": "8ccf2e32",
   "metadata": {},
   "outputs": [],
   "source": []
  }
 ],
 "metadata": {
  "kernelspec": {
   "display_name": "Python 3",
   "language": "python",
   "name": "python3"
  },
  "language_info": {
   "codemirror_mode": {
    "name": "ipython",
    "version": 3
   },
   "file_extension": ".py",
   "mimetype": "text/x-python",
   "name": "python",
   "nbconvert_exporter": "python",
   "pygments_lexer": "ipython3",
   "version": "3.13.1"
  }
 },
 "nbformat": 4,
 "nbformat_minor": 5
}
